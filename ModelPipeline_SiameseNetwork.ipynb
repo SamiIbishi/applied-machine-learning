{
 "cells": [
  {
   "cell_type": "markdown",
   "metadata": {},
   "source": [
    "<h1>Building and Training Siamese Neural Network</h1>"
   ]
  },
  {
   "cell_type": "markdown",
   "metadata": {},
   "source": [
    "<h3>Data loading and preprocessing</h3>"
   ]
  },
  {
   "cell_type": "code",
   "execution_count": null,
   "metadata": {},
   "outputs": [],
   "source": []
  },
  {
   "cell_type": "markdown",
   "metadata": {},
   "source": [
    "<h3>Model building and training</h3>"
   ]
  },
  {
   "cell_type": "code",
   "execution_count": 1,
   "metadata": {},
   "outputs": [],
   "source": [
    "import torch\n",
    "from torchsummary import summary\n",
    "from src.model.FaceNet import SiameseNetwork"
   ]
  },
  {
   "cell_type": "code",
   "execution_count": 2,
   "metadata": {},
   "outputs": [
    {
     "data": {
      "text/plain": [
       "device(type='cuda', index=0)"
      ]
     },
     "execution_count": 2,
     "metadata": {},
     "output_type": "execute_result"
    }
   ],
   "source": [
    "device = torch.device(\"cuda:0\" if torch.cuda.is_available() else \"cpu\")\n",
    "device"
   ]
  },
  {
   "cell_type": "code",
   "execution_count": 3,
   "metadata": {},
   "outputs": [],
   "source": [
    "random_input_example = torch.randn(1, 3, 512, 512, device=device)\n",
    "model = SiameseNetwork()"
   ]
  },
  {
   "cell_type": "code",
   "execution_count": 4,
   "metadata": {},
   "outputs": [
    {
     "name": "stdout",
     "output_type": "stream",
     "text": [
      "Model is on cuda: True\n"
     ]
    }
   ],
   "source": [
    "model.to(device)\n",
    "print(f'Model is on cuda: {next(model.parameters()).is_cuda}')"
   ]
  },
  {
   "cell_type": "code",
   "execution_count": 5,
   "metadata": {},
   "outputs": [
    {
     "data": {
      "text/plain": [
       "True"
      ]
     },
     "execution_count": 5,
     "metadata": {},
     "output_type": "execute_result"
    }
   ],
   "source": [
    "next(model.parameters()).is_cuda"
   ]
  },
  {
   "cell_type": "code",
   "execution_count": 6,
   "metadata": {},
   "outputs": [
    {
     "name": "stdout",
     "output_type": "stream",
     "text": [
      "----------------------------------------------------------------\n",
      "        Layer (type)               Output Shape         Param #\n",
      "================================================================\n",
      "            Conv2d-1        [-1, 128, 510, 510]           3,584\n",
      "         MaxPool2d-2        [-1, 128, 255, 255]               0\n",
      "             PReLU-3        [-1, 128, 255, 255]             128\n",
      "            Conv2d-4         [-1, 64, 253, 253]          73,792\n",
      "         MaxPool2d-5         [-1, 64, 126, 126]               0\n",
      "             PReLU-6         [-1, 64, 126, 126]              64\n",
      "            Conv2d-7         [-1, 32, 124, 124]          18,464\n",
      "         MaxPool2d-8           [-1, 32, 62, 62]               0\n",
      "             PReLU-9           [-1, 32, 62, 62]              32\n",
      "           Conv2d-10           [-1, 16, 60, 60]           4,624\n",
      "        MaxPool2d-11           [-1, 16, 30, 30]               0\n",
      "            PReLU-12           [-1, 16, 30, 30]              16\n",
      "           Conv2d-13            [-1, 8, 28, 28]           1,160\n",
      "        MaxPool2d-14            [-1, 8, 14, 14]               0\n",
      "            PReLU-15            [-1, 8, 14, 14]               8\n",
      "           Linear-16                  [-1, 512]         803,328\n",
      "            PReLU-17                  [-1, 512]               1\n",
      "           Linear-18                  [-1, 256]         131,328\n",
      "================================================================\n",
      "Total params: 1,036,529\n",
      "Trainable params: 1,036,529\n",
      "Non-trainable params: 0\n",
      "----------------------------------------------------------------\n",
      "Input size (MB): 3.00\n",
      "Forward/backward pass size (MB): 434.14\n",
      "Params size (MB): 3.95\n",
      "Estimated Total Size (MB): 441.09\n",
      "----------------------------------------------------------------\n"
     ]
    }
   ],
   "source": [
    "summary(model, input_size=(3, 512, 512))"
   ]
  },
  {
   "cell_type": "code",
   "execution_count": 7,
   "metadata": {},
   "outputs": [
    {
     "name": "stdout",
     "output_type": "stream",
     "text": [
      "Output shape: torch.Size([1, 256])\n"
     ]
    }
   ],
   "source": [
    "y = model(random_input_example)\n",
    "print(f'Output shape: {y.shape}')"
   ]
  },
  {
   "cell_type": "markdown",
   "metadata": {},
   "source": [
    "<h3>Model evaluation</h3>"
   ]
  },
  {
   "cell_type": "code",
   "execution_count": null,
   "metadata": {},
   "outputs": [],
   "source": []
  },
  {
   "cell_type": "code",
   "execution_count": null,
   "metadata": {},
   "outputs": [],
   "source": []
  }
 ],
 "metadata": {
  "kernelspec": {
   "display_name": "applied-ml",
   "language": "python",
   "name": "applied-ml"
  },
  "language_info": {
   "codemirror_mode": {
    "name": "ipython",
    "version": 3
   },
   "file_extension": ".py",
   "mimetype": "text/x-python",
   "name": "python",
   "nbconvert_exporter": "python",
   "pygments_lexer": "ipython3",
   "version": "3.8.5"
  }
 },
 "nbformat": 4,
 "nbformat_minor": 4
}
