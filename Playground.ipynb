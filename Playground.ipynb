{
 "cells": [
  {
   "cell_type": "markdown",
   "metadata": {},
   "source": [
    "<h1>Playground in order to test various functionalities</h1>"
   ]
  },
  {
   "cell_type": "code",
   "execution_count": 1,
   "metadata": {},
   "outputs": [],
   "source": [
    "from src.data_loader import DataSplitter\n",
    "#from src.data_loader.DatasetDownloader import DatasetDownloader\n",
    "from src.data_loader.FaceRecognitionDataset import FaceRecognitionDataset"
   ]
  },
  {
   "cell_type": "code",
   "execution_count": 4,
   "metadata": {},
   "outputs": [],
   "source": [
    "dataset = FaceRecognitionDataset(dataset_dir='src/data/celeba_dataset/images', labels_path='src/data/celeba_dataset/labels.txt')\n",
    "train_dataset, val_dataset = DataSplitter.split_train_test(dataset, val_ratio=0.3)"
   ]
  },
  {
   "cell_type": "code",
   "execution_count": 6,
   "outputs": [
    {
     "name": "stdout",
     "output_type": "stream",
     "text": [
      "2721:\n"
     ]
    }
   ],
   "source": [
    "image, label = train_dataset[0]\n",
    "\n",
    "print(label + ':')\n",
    "image.show()"
   ],
   "metadata": {
    "collapsed": false,
    "pycharm": {
     "name": "#%%\n"
    }
   }
  },
  {
   "cell_type": "code",
   "execution_count": null,
   "outputs": [],
   "source": [],
   "metadata": {
    "collapsed": false,
    "pycharm": {
     "name": "#%%\n"
    }
   }
  }
 ],
 "metadata": {
  "kernelspec": {
   "name": "homework_project",
   "language": "python",
   "display_name": "Homework_project"
  },
  "language_info": {
   "codemirror_mode": {
    "name": "ipython",
    "version": 3
   },
   "file_extension": ".py",
   "mimetype": "text/x-python",
   "name": "python",
   "nbconvert_exporter": "python",
   "pygments_lexer": "ipython3",
   "version": "3.8.5"
  }
 },
 "nbformat": 4,
 "nbformat_minor": 4
}